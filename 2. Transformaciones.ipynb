{
 "cells": [
  {
   "cell_type": "markdown",
   "metadata": {},
   "source": [
    "# 1.Eliminar Mostrar de reacciones, detectar genero, detectar hashtag"
   ]
  },
  {
   "cell_type": "code",
   "execution_count": 3,
   "metadata": {},
   "outputs": [
    {
     "name": "stdout",
     "output_type": "stream",
     "text": [
      "Archivo actualizado con género guardado en los comentarios: 'DB Completo Sin Sentimientos.json'.\n"
     ]
    }
   ],
   "source": [
    "import json\n",
    "import gender_guesser.detector as gender\n",
    "import re\n",
    "\n",
    "# Cargar el archivo JSON existente\n",
    "archivo_json = \"DB Original.json\"\n",
    "nuevo_archivo_json = \"DB Completo Sin Sentimientos.json\"\n",
    "\n",
    "try:\n",
    "    # Leer el archivo JSON\n",
    "    with open(archivo_json, \"r\", encoding=\"utf-8\") as json_file:\n",
    "        publicaciones = json.load(json_file)\n",
    "\n",
    "\n",
    "\n",
    "################################ Procesar cada publicación para limpiar las reacciones\n",
    "    for publicacion in publicaciones:\n",
    "        reacciones = publicacion.get(\"reacciones\", {})\n",
    "        if isinstance(reacciones, dict):  # Validar que es un diccionario\n",
    "            reacciones_limpias = {}\n",
    "            for tipo_reaccion, valor in reacciones.items():\n",
    "                if isinstance(valor, str) and \"Mostrar\" in valor:  # Procesar solo si contiene \"Mostrar\"\n",
    "                    numero = \"\".join(filter(str.isdigit, valor))\n",
    "                    reacciones_limpias[tipo_reaccion] = int(numero) if numero.isdigit() else 0\n",
    "                else:\n",
    "                    # Mantener el valor original si no contiene \"Mostrar\"\n",
    "                    reacciones_limpias[tipo_reaccion] = valor\n",
    "            # Reemplazar las reacciones con las versiones limpias\n",
    "            publicacion[\"reacciones\"] = reacciones_limpias\n",
    "        else:\n",
    "            publicacion[\"reacciones\"] = {}\n",
    "\n",
    "######################################## Procesar cada publicación para extraer hashtags\n",
    "    for publicacion in publicaciones:\n",
    "        titulo = publicacion.get(\"titulo\", \"\")\n",
    "        if isinstance(titulo, str):  # Validar que el título es un string\n",
    "            hashtags = re.findall(r\"#\\w+\", titulo)\n",
    "            publicacion[\"hashtags\"] = hashtags\n",
    "        else:\n",
    "            publicacion[\"hashtags\"] = []\n",
    "\n",
    "#################################################### Inicializar el detector de género\n",
    "    detector = gender.Detector()\n",
    "\n",
    "    # Procesar cada comentario en las publicaciones\n",
    "    for publicacion in publicaciones:\n",
    "        comentarios = publicacion.get(\"comentarios\", [])\n",
    "        if isinstance(comentarios, list):  # Validar que los comentarios son una lista\n",
    "            for comentario in comentarios:\n",
    "                usuario = comentario.get(\"usuario\", \"\")\n",
    "                if isinstance(usuario, str) and usuario:\n",
    "                    # Separar el nombre completo en partes\n",
    "                    partes = usuario.split()\n",
    "\n",
    "                    # Evaluar el género basado en los primeros dos nombres\n",
    "                    genero_principal = detector.get_gender(partes[0]) if len(partes) > 0 else \"unknown\"\n",
    "                    genero_secundario = detector.get_gender(partes[1]) if len(partes) > 1 else \"unknown\"\n",
    "\n",
    "                    # Decidir el género final basado en los dos primeros nombres\n",
    "                    if genero_principal in ['male', 'mostly_male'] or genero_secundario in ['male', 'mostly_male']:\n",
    "                        comentario[\"genero\"] = \"Masculino\"\n",
    "                    elif genero_principal in ['female', 'mostly_female'] or genero_secundario in ['female', 'mostly_female']:\n",
    "                        comentario[\"genero\"] = \"Femenino\"\n",
    "                    else:\n",
    "                        # Si es indeterminado, intentar con el último \"nombre\"\n",
    "                        ultimo_nombre = partes[-1] if partes else \"\"\n",
    "                        genero_final = detector.get_gender(ultimo_nombre)\n",
    "                        if genero_final in ['male', 'mostly_male']:\n",
    "                            comentario[\"genero\"] = \"Masculino\"\n",
    "                        elif genero_final in ['female', 'mostly_female']:\n",
    "                            comentario[\"genero\"] = \"Femenino\"\n",
    "                        else:\n",
    "                            comentario[\"genero\"] = \"Indeterminado\"  # Si sigue sin identificarse\n",
    "                else:\n",
    "                    comentario[\"genero\"] = \"Indeterminado\"  # En caso de que no haya usuario\n",
    "        else:\n",
    "            publicacion[\"comentarios\"] = []  # Si no es una lista, reemplazar por una lista vacía\n",
    "\n",
    "    # Guardar el JSON actualizado en un nuevo archivo\n",
    "    with open(nuevo_archivo_json, \"w\", encoding=\"utf-8\") as json_file:\n",
    "        json.dump(publicaciones, json_file, ensure_ascii=False, indent=4)\n",
    "\n",
    "    print(f\"Archivo actualizado con género guardado en los comentarios: '{nuevo_archivo_json}'.\")\n",
    "except Exception as e:\n",
    "    print(f\"Error al procesar el archivo JSON: {e}\")\n",
    "\n"
   ]
  },
  {
   "cell_type": "markdown",
   "metadata": {},
   "source": [
    "## 2.Leer Archivos\n"
   ]
  },
  {
   "cell_type": "code",
   "execution_count": 1,
   "metadata": {},
   "outputs": [],
   "source": [
    "import json\n",
    "import pandas as pd\n",
    "\n",
    "# Nombre del archivo JSON\n",
    "archivo_entrada = \"DB Completo Sin Sentimientos.json\"\n",
    "archivo_salida = \"DB Completo Sin Sentimientos.json\"\n",
    "\n",
    "# Cargar el archivo JSON\n",
    "try:\n",
    "    with open(archivo_entrada, \"r\", encoding=\"utf-8\") as json_file:\n",
    "        publicaciones = json.load(json_file)\n",
    "except Exception as e:\n",
    "    print(f\"Error al cargar el archivo JSON: {e}\")\n",
    "    exit()\n",
    "\n",
    "# Convertir a DataFrame\n",
    "Datos = pd.json_normalize(\n",
    "    publicaciones,\n",
    "    record_path='comentarios',\n",
    "    meta=['titulo', 'pagina', 'fecha', 'reacciones', 'veces_compartido', 'numero_comentarios', 'hashtags'],\n",
    "    errors='ignore'\n",
    ")\n",
    "\n",
    "if 'numero_comentarios' in Datos.columns:\n",
    "    Datos['numero_comentarios'] = Datos['numero_comentarios'].apply(\n",
    "        lambda x: int(x) if str(x).isdigit() else 0  # Si no es un número, reemplaza con 0\n",
    "    )\n",
    "else:\n",
    "    Datos['numero_comentarios'] = 0\n"
   ]
  },
  {
   "cell_type": "code",
   "execution_count": 58,
   "metadata": {},
   "outputs": [
    {
     "name": "stdout",
     "output_type": "stream",
     "text": [
      "                  usuario                                         comentario  \\\n",
      "0           Sandra Barros                Jajajaja jajajajaja ¿ es en serio??   \n",
      "1           Diego Herrera  Rompiendo oidos con este tipo de géneros sin s...   \n",
      "2           James Howlett                                      Que porquer..   \n",
      "3         Adrian Santiago                                 típicos ignorantes   \n",
      "4        Brayan Maldonado  Los padres deben de evitar que sus hijos compr...   \n",
      "...                   ...                                                ...   \n",
      "15913     Beatriz Andrade           Ella tiene muy buen gusto, él está lindo   \n",
      "15914      Marlu Gonzalez                                        Ella es fea   \n",
      "15915   Romny Jesus López  Otra víctima... Está a tiempo de salir huyendo...   \n",
      "15916         Rocio Lopez                                          Noooooooo   \n",
      "15917  Nohä Yanet Ramirez                       Otra víctima de su caprichos   \n",
      "\n",
      "              genero                                             titulo  \\\n",
      "0           Femenino  #Bravíssimo |\\n Yeison Jiménez lanza hoy 'El T...   \n",
      "1          Masculino  #Bravíssimo |\\n Yeison Jiménez lanza hoy 'El T...   \n",
      "2          Masculino  #Bravíssimo |\\n Yeison Jiménez lanza hoy 'El T...   \n",
      "3          Masculino  #Bravíssimo |\\n Yeison Jiménez lanza hoy 'El T...   \n",
      "4          Masculino  Autoridades reiteraron el llamado a celebrar c...   \n",
      "...              ...                                                ...   \n",
      "15913       Femenino  #SuperLike | El guardaespaldas de Jennifer Lóp...   \n",
      "15914  Indeterminado  #SuperLike | El guardaespaldas de Jennifer Lóp...   \n",
      "15915      Masculino  #SuperLike | El guardaespaldas de Jennifer Lóp...   \n",
      "15916  Indeterminado  #SuperLike | El guardaespaldas de Jennifer Lóp...   \n",
      "15917  Indeterminado  #SuperLike | El guardaespaldas de Jennifer Lóp...   \n",
      "\n",
      "                                       pagina       fecha  \\\n",
      "0      https://www.facebook.com/citytv.com.co  2024-12-06   \n",
      "1      https://www.facebook.com/citytv.com.co  2024-12-06   \n",
      "2      https://www.facebook.com/citytv.com.co  2024-12-06   \n",
      "3      https://www.facebook.com/citytv.com.co  2024-12-06   \n",
      "4      https://www.facebook.com/citytv.com.co  2024-12-02   \n",
      "...                                       ...         ...   \n",
      "15913       https://www.facebook.com/CanalRCN  2024-12-25   \n",
      "15914       https://www.facebook.com/CanalRCN  2024-12-25   \n",
      "15915       https://www.facebook.com/CanalRCN  2024-12-25   \n",
      "15916       https://www.facebook.com/CanalRCN  2024-12-25   \n",
      "15917       https://www.facebook.com/CanalRCN  2024-12-25   \n",
      "\n",
      "                                              reacciones veces_compartido  \\\n",
      "0          {'Todo': 13, 'Me divierte': 8, 'Me gusta': 4}                0   \n",
      "1          {'Todo': 13, 'Me divierte': 8, 'Me gusta': 4}                0   \n",
      "2          {'Todo': 13, 'Me divierte': 8, 'Me gusta': 4}                0   \n",
      "3          {'Todo': 13, 'Me divierte': 8, 'Me gusta': 4}                0   \n",
      "4                             {'Todo': 5, 'Me gusta': 4}                0   \n",
      "...                                                  ...              ...   \n",
      "15913  {'Todo': 110, 'Me gusta': 92, 'Me divierte': 1...                0   \n",
      "15914  {'Todo': 110, 'Me gusta': 92, 'Me divierte': 1...                0   \n",
      "15915  {'Todo': 110, 'Me gusta': 92, 'Me divierte': 1...                0   \n",
      "15916  {'Todo': 110, 'Me gusta': 92, 'Me divierte': 1...                0   \n",
      "15917  {'Todo': 110, 'Me gusta': 92, 'Me divierte': 1...                0   \n",
      "\n",
      "       numero_comentarios       hashtags  \n",
      "0                       3  [#Bravíssimo]  \n",
      "1                       3  [#Bravíssimo]  \n",
      "2                       3  [#Bravíssimo]  \n",
      "3                       3  [#Bravíssimo]  \n",
      "4                       2             []  \n",
      "...                   ...            ...  \n",
      "15913                   0   [#SuperLike]  \n",
      "15914                   0   [#SuperLike]  \n",
      "15915                   0   [#SuperLike]  \n",
      "15916                   0   [#SuperLike]  \n",
      "15917                   0   [#SuperLike]  \n",
      "\n",
      "[15918 rows x 10 columns]\n"
     ]
    }
   ],
   "source": [
    "print(Datos)"
   ]
  },
  {
   "cell_type": "markdown",
   "metadata": {},
   "source": [
    "## Duplicar columnas Comentario"
   ]
  },
  {
   "cell_type": "code",
   "execution_count": 2,
   "metadata": {},
   "outputs": [],
   "source": [
    "# Duplicar la columna 'comentarios' y renombrarla como 'comentarios_tratados'\n",
    "Datos['comentarios_tratados'] = Datos['comentario']"
   ]
  },
  {
   "cell_type": "markdown",
   "metadata": {},
   "source": [
    "## Eliminar Nombres Comentarios"
   ]
  },
  {
   "cell_type": "code",
   "execution_count": 3,
   "metadata": {},
   "outputs": [
    {
     "name": "stdout",
     "output_type": "stream",
     "text": [
      "Modelo cargado correctamente\n"
     ]
    }
   ],
   "source": [
    "import spacy\n",
    "\n",
    "# Cargar el modelo de spaCy en español\n",
    "nlp = spacy.load(\"es_core_news_md\")\n",
    "print(\"Modelo cargado correctamente\")\n",
    "\n",
    "# Función para eliminar nombres de personas\n",
    "def eliminar_nombres(texto):\n",
    "    doc = nlp(texto)\n",
    "    # Reemplazar entidades PERSON por un espacio\n",
    "    texto_sin_nombres = \" \".join([token.text for token in doc if token.ent_type_ != \"PER\"])\n",
    "    return texto_sin_nombres\n",
    "\n",
    "# Aplicar la función a los comentarios\n",
    "Datos['comentarios_tratados'] = Datos['comentarios_tratados'].apply(eliminar_nombres)\n"
   ]
  },
  {
   "cell_type": "markdown",
   "metadata": {},
   "source": [
    "## Eliminar Stopword,Asignar musculas"
   ]
  },
  {
   "cell_type": "code",
   "execution_count": 4,
   "metadata": {},
   "outputs": [
    {
     "name": "stderr",
     "output_type": "stream",
     "text": [
      "[nltk_data] Downloading package stopwords to\n",
      "[nltk_data]     C:\\Users\\Yeider\\AppData\\Roaming\\nltk_data...\n",
      "[nltk_data]   Package stopwords is already up-to-date!\n",
      "[nltk_data] Downloading package punkt to\n",
      "[nltk_data]     C:\\Users\\Yeider\\AppData\\Roaming\\nltk_data...\n",
      "[nltk_data]   Package punkt is already up-to-date!\n"
     ]
    }
   ],
   "source": [
    "import nltk\n",
    "from nltk.corpus import stopwords\n",
    "import re\n",
    "\n",
    "# Descargar stopwords de NLTK\n",
    "nltk.download('stopwords')\n",
    "nltk.download('punkt')\n",
    "\n",
    "# Configurar stopwords adicionales\n",
    "stopwords_generales = set(stopwords.words('spanish'))\n",
    "stopwords_generales.update(['q', 'sins', 'sins sins'])  # Agregar stopwords personalizadas\n",
    "\n",
    "# Preprocesar texto: convertir a minúsculas, eliminar caracteres especiales, enlaces y números\n",
    "def limpiar_texto(texto):\n",
    "    texto = texto.lower()  # Convertir a minúsculas\n",
    "    texto = nltk.RegexpTokenizer(r'\\w+').tokenize(texto)  # Tokenizar (remueve caracteres especiales)\n",
    "    texto = [palabra for palabra in texto if palabra not in stopwords_generales]  # Remover stopwords\n",
    "    return ' '.join(texto)\n",
    "\n",
    "# Aplicar la función limpiar texto\n",
    "Datos['comentarios_tratados'] = Datos['comentarios_tratados'].apply(limpiar_texto)\n",
    "\n",
    "# Eliminar la palabra \"seguir\"\n",
    "Datos['comentarios_tratados'] = Datos['comentarios_tratados'].str.replace(r'\\bseguir\\b', '', regex=True)"
   ]
  },
  {
   "cell_type": "markdown",
   "metadata": {},
   "source": [
    "## Grafico palabras mas repetidas\n"
   ]
  },
  {
   "cell_type": "code",
   "execution_count": 5,
   "metadata": {},
   "outputs": [
    {
     "data": {
      "image/png": "[encoded data removed]",
      "text/plain": [
       "<Figure size 1000x600 with 1 Axes>"
      ]
     },
     "metadata": {},
     "output_type": "display_data"
    }
   ],
   "source": [
    "import matplotlib.pyplot as plt\n",
    "from collections import Counter\n",
    "import nltk\n",
    "import re\n",
    "\n",
    "# Obtener los comentarios\n",
    "comentarios = Datos['comentarios_tratados'].dropna()  # Eliminar valores NaN\n",
    "\n",
    "# Convertir todos los comentarios a un solo texto\n",
    "comentarios_concatenados = ' '.join(comentarios)\n",
    "\n",
    "# Dividir el texto en palabras\n",
    "palabras = comentarios_concatenados.split()\n",
    "\n",
    "# Contar las palabras\n",
    "frecuencia_palabras = Counter(palabras)\n",
    "\n",
    "# Obtener las 10 palabras más comunes\n",
    "palabras_mas_frecuentes = frecuencia_palabras.most_common(10)\n",
    "\n",
    "# Separar las palabras y sus frecuencias\n",
    "palabras, frecuencias = zip(*palabras_mas_frecuentes)\n",
    "\n",
    "# Graficar las palabras más frecuentes\n",
    "plt.figure(figsize=(10, 6))\n",
    "plt.barh(palabras, frecuencias, color='skyblue')\n",
    "plt.xlabel('Frecuencia')\n",
    "plt.title('Palabras más frecuentes en los comentarios')\n",
    "plt.gca().invert_yaxis()  # Invertir el eje y para que la palabra más frecuente esté arriba\n",
    "plt.show()\n"
   ]
  },
  {
   "cell_type": "markdown",
   "metadata": {},
   "source": [
    "## Crear ID Publicacion"
   ]
  },
  {
   "cell_type": "code",
   "execution_count": 6,
   "metadata": {},
   "outputs": [],
   "source": [
    "# Crear una nueva columna \"ID_Titulo\" basada en los títulos únicos\n",
    "Datos[\"ID_Publicacion\"] = pd.factorize(Datos[\"titulo\"])[0] + 1  # Sumar 1 para que los IDs comiencen en 1"
   ]
  },
  {
   "cell_type": "markdown",
   "metadata": {},
   "source": [
    "## Guardar archivo\n"
   ]
  },
  {
   "cell_type": "code",
   "execution_count": 13,
   "metadata": {},
   "outputs": [
    {
     "name": "stdout",
     "output_type": "stream",
     "text": [
      "Archivo JSON procesado guardado como: DB_Procesado.json\n"
     ]
    }
   ],
   "source": [
    "# Reconstruir la estructura original del JSON\n",
    "estructura_reconstruida = []\n",
    "\n",
    "for titulo, grupo in Datos.groupby('titulo'):\n",
    "    publicacion = {\n",
    "        \"titulo\": titulo,\n",
    "        \"comentarios\": grupo[['usuario', 'comentario', 'genero', 'comentarios_tratados', 'ID_Publicacion']].to_dict(orient='records') if 'comentario' in Datos.columns else [],\n",
    "        \"pagina\": grupo['pagina'].iloc[0] if 'pagina' in Datos.columns else None,\n",
    "        \"fecha\": grupo['fecha'].iloc[0] if 'fecha' in Datos.columns else None,\n",
    "        \"reacciones\": grupo['reacciones'].iloc[0] if 'reacciones' in Datos.columns else {},\n",
    "        \"veces_compartido\": int(grupo['veces_compartido'].iloc[0]) if 'veces_compartido' in Datos.columns else 0,\n",
    "        \"numero_comentarios\": int(grupo['numero_comentarios'].iloc[0]) if 'numero_comentarios' in Datos.columns else 0,\n",
    "        \"hashtags\": grupo['hashtags'].iloc[0] if 'hashtags' in Datos.columns else ''\n",
    "    }\n",
    "    estructura_reconstruida.append(publicacion)\n",
    "\n",
    "# Guardar el JSON con formato legible\n",
    "try:\n",
    "    with open(archivo_salida, 'w', encoding='utf-8') as json_file:\n",
    "        json.dump(estructura_reconstruida, json_file, ensure_ascii=False, indent=4)\n",
    "    print(f\"Archivo JSON procesado guardado como: {archivo_salida}\")\n",
    "except Exception as e:\n",
    "    print(f\"Error al guardar el archivo JSON: {e}\")"
   ]
  }
 ],
 "metadata": {
  "kernelspec": {
   "display_name": "base",
   "language": "python",
   "name": "python3"
  },
  "language_info": {
   "codemirror_mode": {
    "name": "ipython",
    "version": 3
   },
   "file_extension": ".py",
   "mimetype": "text/x-python",
   "name": "python",
   "nbconvert_exporter": "python",
   "pygments_lexer": "ipython3",
   "version": "3.11.7"
  }
 },
 "nbformat": 4,
 "nbformat_minor": 2
}
