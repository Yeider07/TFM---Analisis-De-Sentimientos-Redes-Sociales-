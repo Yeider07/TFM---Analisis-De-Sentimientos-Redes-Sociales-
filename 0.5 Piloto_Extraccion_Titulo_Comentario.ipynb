{
 "cells": [
  {
   "cell_type": "markdown",
   "metadata": {},
   "source": [
    "# Importar Librerias\n"
   ]
  },
  {
   "cell_type": "code",
   "execution_count": 1,
   "metadata": {},
   "outputs": [],
   "source": [
    "from selenium import webdriver\n",
    "from selenium.webdriver.common.by import By\n",
    "from selenium.webdriver.support.ui import WebDriverWait\n",
    "from selenium.webdriver.support import expected_conditions as EC\n",
    "from selenium.common.exceptions import NoSuchElementException, TimeoutException\n",
    "from selenium.webdriver.common.action_chains import ActionChains\n",
    "import time\n",
    "from selenium import webdriver\n",
    "from selenium.webdriver.chrome.service import Service\n",
    "from selenium.webdriver.common.keys import Keys\n",
    "from selenium.webdriver.support.ui import WebDriverWait\n",
    "from selenium.webdriver.support import expected_conditions as EC\n",
    "from selenium.webdriver.common.by import By\n",
    "import time\n",
    "from datetime import datetime, timedelta\n",
    "from selenium.webdriver.support.ui import Select\n",
    "import os\n",
    "import pandas as pd\n",
    "from datetime import datetime, timedelta\n",
    "import json\n",
    "\n"
   ]
  },
  {
   "cell_type": "markdown",
   "metadata": {},
   "source": [
    "# Inicializar ChromeDriver de selenium\n"
   ]
  },
  {
   "cell_type": "code",
   "execution_count": 2,
   "metadata": {},
   "outputs": [],
   "source": [
    "# Ruta al ejecutable de ChromeDriver\n",
    "chrome_driver_path = r'C:\\Users\\Yeider\\Documents\\Python\\TFM\\chromedriver-win64\\chromedriver.exe' # Editar ruta a la necesaria\n",
    "# Crear una instancia del servicio ChromeDriver\n",
    "service = Service(executable_path=chrome_driver_path)\n",
    "# Iniciar el navegador Chrome \n",
    "driver = webdriver.Chrome(service=service)\n",
    "\n",
    "# Maximizar la ventana del navegador\n",
    "driver.maximize_window()\n",
    "\n",
    "# Abrir la página de inicio de sesión\n",
    "driver.get('https://www.facebook.com/')"
   ]
  },
  {
   "cell_type": "markdown",
   "metadata": {},
   "source": [
    "# Asignar usuario y contraseña Facebook"
   ]
  },
  {
   "cell_type": "code",
   "execution_count": 3,
   "metadata": {},
   "outputs": [],
   "source": [
    "# Esperar  10 segundos antes de lanzar una excepción\n",
    "wait = WebDriverWait(driver, 10)\n",
    "\n",
    "# Asignar usuario y contraseña \n",
    "username_field = wait.until(EC.presence_of_element_located((By.ID, 'email')))\n",
    "username_field.send_keys('yeryer972@gmail.com')\n",
    "password_field = wait.until(EC.presence_of_element_located((By.ID, 'pass')))\n",
    "password_field.send_keys('Yeider2024*')\n",
    "\n",
    "login_button = driver.find_element(By.NAME, 'login')\n",
    "login_button.click()"
   ]
  },
  {
   "cell_type": "markdown",
   "metadata": {},
   "source": [
    "# Dar clic Comentario"
   ]
  },
  {
   "cell_type": "code",
   "execution_count": 4,
   "metadata": {},
   "outputs": [
    {
     "name": "stdout",
     "output_type": "stream",
     "text": [
      "¡Elemento encontrado y clic realizado!\n"
     ]
    }
   ],
   "source": [
    "# Abrir la página de Facebook\n",
    "url = \"https://www.facebook.com/CanalRCN\"\n",
    "driver.get(url)\n",
    "\n",
    "# Tiempo de espera para que la página cargue\n",
    "time.sleep(5) \n",
    "\n",
    "\n",
    "# Número de intentos máximos para evitar un bucle infinito\n",
    "max_intentos = 10  \n",
    "intentos = 0\n",
    "encontrado = False  # Para saber si encontramos el ícono\n",
    "\n",
    "#Si la publicacion es mayor o igual a 3 dara clic en comentarios para extraer los\n",
    "numero_comentarios = 3  # Número de comentarios para decidir si hacer clic en el ícono\n",
    "\n",
    "# Lógica para buscar y hacer clic en el ícono de comentarios si el número es mayor a 2\n",
    "if numero_comentarios > 2:\n",
    "    while intentos < max_intentos and not encontrado:\n",
    "        try:\n",
    "            # Esperar hasta que el ícono esté presente \n",
    "            icono_comentarios = WebDriverWait(driver, 10).until(\n",
    "                EC.visibility_of_element_located((By.CSS_SELECTOR, '.xdj266r.x11i5rnm.xat24cr.x1mh8g0r.xexx8yu.x4uap5.x18d9i69.xkhd6sd.x1hl2dhg.x16tdsg8.x1vvkbs.x1sur9pj.xkrqix3'))\n",
    "            )\n",
    "\n",
    "            # Desplazar la vista hasta el elemento encontrado\n",
    "            actions = ActionChains(driver)\n",
    "            actions.move_to_element(icono_comentarios).perform()\n",
    "\n",
    "            # Asegurarse de que el ícono es clickeable\n",
    "            WebDriverWait(driver, 10).until(\n",
    "                EC.element_to_be_clickable((By.CSS_SELECTOR, '.xdj266r.x11i5rnm.xat24cr.x1mh8g0r.xexx8yu.x4uap5.x18d9i69.xkhd6sd.x1hl2dhg.x16tdsg8.x1vvkbs.x1sur9pj.xkrqix3'))\n",
    "            ).click()\n",
    "\n",
    "            print(\"¡Elemento encontrado y clic realizado!\")\n",
    "            encontrado = True  # Salimos del bucle si encontramos el elemento y hacemos clic\n",
    "        except Exception as e:\n",
    "            # Si el elemento no se encuentra, hacer scroll hacia abajo y aumentar el contador de intentos\n",
    "            print(f\"Error: {e}. Intentando de nuevo...\")\n",
    "            driver.execute_script(\"window.scrollBy(0, 500);\")  # Desplazarse 500 píxeles hacia abajo\n",
    "            intentos += 1\n",
    "            time.sleep(2)  # Espera corta para que cargue el contenido al hacer scroll\n",
    "    if not encontrado:\n",
    "        print(\"No se encontró el ícono de comentarios después de varios intentos.\")\n"
   ]
  },
  {
   "cell_type": "markdown",
   "metadata": {},
   "source": [
    "\n",
    "# Paso 1: Extraer el título de la publicación"
   ]
  },
  {
   "cell_type": "code",
   "execution_count": 5,
   "metadata": {},
   "outputs": [
    {
     "name": "stdout",
     "output_type": "stream",
     "text": [
      "Título de la publicación (primer formato): #SuperLike | \n",
      " Yina Calderón no se guarda nada y revela un enfrentamiento impactante con uno de sus ex. “¡Su carrera se desplomó!” \n",
      " \n"
     ]
    }
   ],
   "source": [
    "\n",
    "# Variable para almacenar el texto de la publicación (título)\n",
    "titulo_publicacion = \"\"\n",
    "\n",
    "# Lista para almacenar los comentarios con los usuarios\n",
    "comentarios_guardados = []\n",
    "\n",
    "# Paso 1: Extraer el título de la publicación\n",
    "try:\n",
    "    texto_publicacion = WebDriverWait(driver, 10).until(\n",
    "        EC.presence_of_element_located((By.XPATH, \"//div[contains(@class, 'x78zum5 xdt5ytf x1iyjqo2 x1n2onr6 xaci4zi x129vozr')]//div[@data-ad-preview='message']//span\"))\n",
    "    )\n",
    "    titulo_publicacion = texto_publicacion.text\n",
    "    print(\"Título de la publicación (primer formato):\", titulo_publicacion)\n",
    "\n",
    "except Exception:\n",
    "    try:\n",
    "        texto_publicacion = WebDriverWait(driver, 10).until(\n",
    "            EC.presence_of_element_located((By.XPATH, \"//div[contains(@class, 'x78zum5 xdt5ytf x1iyjqo2 x1n2onr6 xaci4zi x129vozr')]//div[@style='text-align: start;']\"))\n",
    "        )\n",
    "        titulo_publicacion = texto_publicacion.text\n",
    "        print(\"Título de la publicación (segundo formato):\", titulo_publicacion)\n",
    "    except Exception as e:\n",
    "        print(f\"No se encontró el texto de la publicación en ninguno de los dos formatos: {e}\")\n"
   ]
  },
  {
   "cell_type": "markdown",
   "metadata": {},
   "source": [
    "# Paso 2: Seleccionar \"Todos los comentarios\"\n"
   ]
  },
  {
   "cell_type": "code",
   "execution_count": 7,
   "metadata": {},
   "outputs": [
    {
     "name": "stdout",
     "output_type": "stream",
     "text": [
      "Opción 'Todos los comentarios' seleccionada correctamente\n"
     ]
    }
   ],
   "source": [
    "#Se escoge el pop up de ver no los comentarios mas relevants sino los Todos los comentarios\n",
    "try:\n",
    "    boton_mas_relevantes = WebDriverWait(driver, 10).until(\n",
    "        EC.presence_of_element_located((By.XPATH, \"//span[text()='Más pertinentes']\"))\n",
    "    )\n",
    "\n",
    "    driver.execute_script(\"arguments[0].click();\", boton_mas_relevantes)\n",
    "    time.sleep(2)\n",
    "    \n",
    "    driver.execute_script(\"document.querySelector('div').style.visibility = 'visible';\")\n",
    "    opcion_todos_comentarios = WebDriverWait(driver, 10).until(\n",
    "        EC.presence_of_element_located((By.XPATH, \"//span[text()='Todos los comentarios']\"))\n",
    "    )\n",
    "    \n",
    "    driver.execute_script(\"arguments[0].click();\", opcion_todos_comentarios)\n",
    "    print(\"Opción 'Todos los comentarios' seleccionada correctamente\")\n",
    "\n",
    "except Exception as e:\n",
    "    print(f\"Hubo un problema al seleccionar 'Todos los comentarios': {e}\")"
   ]
  },
  {
   "cell_type": "markdown",
   "metadata": {},
   "source": [
    "# Paso 3: Extraer y guardar los comentarios"
   ]
  },
  {
   "cell_type": "code",
   "execution_count": 9,
   "metadata": {},
   "outputs": [],
   "source": [
    "try:\n",
    "    comentarios = WebDriverWait(driver, 10).until(\n",
    "        EC.presence_of_all_elements_located((By.CSS_SELECTOR, \".xwib8y2.xn6708d.x1ye3gou.x1y1aw1k\"))\n",
    "    )\n",
    "\n",
    "    usuario_actual = None\n",
    "\n",
    "    # Iterar sobre los comentarios\n",
    "    for comentario in comentarios:\n",
    "        texto_comentario = comentario.text.strip()\n",
    "\n",
    "        # Omitir Comentarios cuando sea comentar como \n",
    "        if \"Comentar como\" in texto_comentario:\n",
    "            continue\n",
    "\n",
    "        lineas = texto_comentario.split('\\n') # Si comentario tiene mas de una linea /n hacer salto de linea\n",
    "        if len(lineas) > 1:\n",
    "            usuario = lineas[0].strip() # Usuario\n",
    "            comentario_texto = ' '.join(lineas[1:]).strip() # Comentario\n",
    "            comentarios_guardados.append({\"usuario\": usuario, \"comentario\": comentario_texto}) # Guarda comentario usuario, comentario\n",
    "        else:\n",
    "            if usuario_actual:\n",
    "                comentarios_guardados.append({\"usuario\": usuario_actual, \"comentario\": texto_comentario})\n",
    "                usuario_actual = None\n",
    "\n",
    "except Exception as e:\n",
    "    print(f\"Hubo un problema al extraer los comentarios: {e}\")"
   ]
  },
  {
   "cell_type": "markdown",
   "metadata": {},
   "source": [
    "# Paso 4: Guardar el título y los comentarios en un archivo JSON"
   ]
  },
  {
   "cell_type": "code",
   "execution_count": 31,
   "metadata": {},
   "outputs": [
    {
     "name": "stdout",
     "output_type": "stream",
     "text": [
      "Título y comentarios guardados en 'publicacion_y_comentarios Prueba.json'.\n"
     ]
    }
   ],
   "source": [
    "data = {\n",
    "    \"titulo\": titulo_publicacion,\n",
    "    \"comentarios\": comentarios_guardados\n",
    "}\n",
    "\n",
    "with open(\"publicacion_y_comentarios.json\", \"w\", encoding=\"utf-8\") as json_file:\n",
    "    json.dump(data, json_file, ensure_ascii=False, indent=4)\n",
    "\n",
    "print(\"Título y comentarios guardados en 'publicacion_y_comentarios Prueba.json'.\")"
   ]
  },
  {
   "cell_type": "markdown",
   "metadata": {},
   "source": [
    "# Paso 5: Cerrar Popup Publicacion"
   ]
  },
  {
   "cell_type": "code",
   "execution_count": 21,
   "metadata": {},
   "outputs": [
    {
     "name": "stdout",
     "output_type": "stream",
     "text": [
      "Pop-up cerrado correctamente.\n"
     ]
    }
   ],
   "source": [
    "try:\n",
    "    # Esperar a que el botón de cierre esté presente y sea clickeable\n",
    "    boton_cerrar = WebDriverWait(driver, 10).until(\n",
    "        EC.element_to_be_clickable((By.XPATH, \"//div[@aria-label='Cerrar']\"))\n",
    "    )\n",
    "    \n",
    "    # Hacer clic en el 'div' que contiene el botón de cierre\n",
    "    boton_cerrar.click()\n",
    "\n",
    "    print(\"Pop-up cerrado correctamente.\")\n",
    "\n",
    "except Exception as e:\n",
    "    print(f\"Hubo un problema al cerrar el pop-up: {e}\")\n"
   ]
  }
 ],
 "metadata": {
  "kernelspec": {
   "display_name": "base",
   "language": "python",
   "name": "python3"
  },
  "language_info": {
   "codemirror_mode": {
    "name": "ipython",
    "version": 3
   },
   "file_extension": ".py",
   "mimetype": "text/x-python",
   "name": "python",
   "nbconvert_exporter": "python",
   "pygments_lexer": "ipython3",
   "version": "3.11.7"
  }
 },
 "nbformat": 4,
 "nbformat_minor": 2
}
